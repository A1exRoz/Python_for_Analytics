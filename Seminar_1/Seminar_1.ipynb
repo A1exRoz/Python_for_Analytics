{
 "cells": [
  {
   "attachments": {},
   "cell_type": "markdown",
   "metadata": {},
   "source": [
    "## Задание 1"
   ]
  },
  {
   "attachments": {},
   "cell_type": "markdown",
   "metadata": {},
   "source": [
    "### 1.1 Соедините два словаря в один"
   ]
  },
  {
   "cell_type": "code",
   "execution_count": null,
   "metadata": {},
   "outputs": [],
   "source": [
    "dict1 = {'One': 1, 'Two': 2, 'Three': 3}\n",
    "dict2 = {'Four': 4, 'Five': 5, 'Six': 6}"
   ]
  },
  {
   "cell_type": "code",
   "execution_count": null,
   "metadata": {},
   "outputs": [],
   "source": [
    "dict3 = dict1 | dict2\n",
    "dict3\n",
    "# слияние"
   ]
  },
  {
   "cell_type": "code",
   "execution_count": null,
   "metadata": {},
   "outputs": [],
   "source": [
    "{**dict1, **dict2} \n",
    "#распаковка (zip)"
   ]
  },
  {
   "cell_type": "code",
   "execution_count": null,
   "metadata": {},
   "outputs": [],
   "source": [
    "dict1.update(dict2)\n",
    "dict1\n",
    "# добавление путем изменения первого"
   ]
  },
  {
   "attachments": {},
   "cell_type": "markdown",
   "metadata": {},
   "source": [
    "### 1.2 Напишите функцию, которая на вход принимает два словаря и возвращает один объединенный словарь"
   ]
  },
  {
   "cell_type": "code",
   "execution_count": null,
   "metadata": {},
   "outputs": [],
   "source": [
    "dict1 = {'One': 1, 'Two': 2, 'Three': 3}\n",
    "dict2 = {'Four': 4, 'Five': 5, 'Six': 6}"
   ]
  },
  {
   "cell_type": "code",
   "execution_count": null,
   "metadata": {},
   "outputs": [],
   "source": [
    "def dict_all(dict_a: dict, dict_b: dict) -> dict:\n",
    "    dict_a.update(dict_b)\n",
    "    return dict_a\n",
    "dict_all(dict1, dict2)"
   ]
  },
  {
   "attachments": {},
   "cell_type": "markdown",
   "metadata": {},
   "source": [
    "## Задание 2.\n",
    "Напишите функцию, которая из двух списков, делает один словарь,  \n",
    "где элементы из первого списка - ключи, а элементы из второго списка - значения"
   ]
  },
  {
   "cell_type": "code",
   "execution_count": null,
   "metadata": {},
   "outputs": [],
   "source": [
    "keys = ['One', 'Two', 'Three']\n",
    "values = [1, 2, 3]"
   ]
  },
  {
   "attachments": {},
   "cell_type": "markdown",
   "metadata": {},
   "source": [
    "### 2.1 Используя цикл for"
   ]
  },
  {
   "cell_type": "code",
   "execution_count": null,
   "metadata": {},
   "outputs": [],
   "source": [
    "def create_dict(lst1: list, lst2: list) -> list:\n",
    "    new_dict = dict()\n",
    "    for i in range(len(lst1)):\n",
    "         new_dict[lst1[i]] = lst2[i]\n",
    "    return new_dict\n",
    "\n",
    "create_dict(keys, values)"
   ]
  },
  {
   "attachments": {},
   "cell_type": "markdown",
   "metadata": {},
   "source": [
    "### 2.2 Используя dict comprehensions"
   ]
  },
  {
   "cell_type": "code",
   "execution_count": null,
   "metadata": {},
   "outputs": [],
   "source": [
    "{keys[i]: values[i] for i in range(len(keys))}"
   ]
  },
  {
   "attachments": {},
   "cell_type": "markdown",
   "metadata": {},
   "source": [
    "## Задание 3.\n",
    "Извлеките только два ключа name и age из представленного \n",
    "словаря\n"
   ]
  },
  {
   "cell_type": "code",
   "execution_count": null,
   "metadata": {},
   "outputs": [],
   "source": [
    "client_dict = {\n",
    "    \"name\": \"John\",\n",
    "    \"age\": 25,\n",
    "    \"salary\": 5000,\n",
    "    \"city\": \"Moscow\"\n",
    "}"
   ]
  },
  {
   "attachments": {},
   "cell_type": "markdown",
   "metadata": {},
   "source": [
    "### 3.1 Напишите функцию с циклом for\n",
    "Функция на вход принимает:\n",
    "исходный словарь\n",
    "ключи, которые нужно извлечь (аргумент по \n",
    "умолчанию)\n",
    "\n",
    "На выходе словарь с нужными ключами\n",
    "Используйте аннотирование типов"
   ]
  },
  {
   "cell_type": "code",
   "execution_count": null,
   "metadata": {},
   "outputs": [],
   "source": [
    "def read_dict(dict_1: dict, keys: list=['name', 'age']) -> dict:\n",
    "    out_dict = dict()\n",
    "    for i in keys:\n",
    "        out_dict[i] = dict_1[i]\n",
    "    return out_dict\n",
    "read_dict(client_dict)"
   ]
  },
  {
   "attachments": {},
   "cell_type": "markdown",
   "metadata": {},
   "source": [
    "### 3.2 Используя dict comprehensions\n"
   ]
  },
  {
   "cell_type": "code",
   "execution_count": null,
   "metadata": {},
   "outputs": [],
   "source": [
    "keys = ['name', 'age']\n",
    "{i: client_dict[i] for i in keys}"
   ]
  },
  {
   "attachments": {},
   "cell_type": "markdown",
   "metadata": {},
   "source": [
    "## Задание 4\n"
   ]
  },
  {
   "attachments": {},
   "cell_type": "markdown",
   "metadata": {},
   "source": [
    "### 4.1 Сгенерируйте случайные целые числа от 0 до 100 в количестве 5 штук с помощью модуля random:\n",
    "\n",
    "- Зафиксируйте псевдогенерацию, чтобы \n",
    "сгенерированные значения всегда были одинаковые\n",
    "- Используйте list comprehensions"
   ]
  },
  {
   "cell_type": "code",
   "execution_count": 3,
   "metadata": {},
   "outputs": [],
   "source": [
    "import random"
   ]
  },
  {
   "cell_type": "code",
   "execution_count": 4,
   "metadata": {},
   "outputs": [
    {
     "data": {
      "text/plain": [
       "[99, 37, 10, 2, 75]"
      ]
     },
     "execution_count": 4,
     "metadata": {},
     "output_type": "execute_result"
    }
   ],
   "source": [
    "random.seed(23)\n",
    "data = [random.randint(0, 100) for i in range(5)]\n",
    "data"
   ]
  },
  {
   "attachments": {},
   "cell_type": "markdown",
   "metadata": {},
   "source": [
    "### 4.2 Напишите генератор\n",
    "Генератор на вход принимает список с данными о клиенте (данные \n",
    "из пункта 4.1)  \n",
    "Внутри генератора реализуйте обход по списку с данными  \n",
    "На каждой итерации генератор будет возвращать кортеж из двух \n",
    "элементов:\n",
    "1. данные по клиенту (в зависимости от итерации, на 0 итерации \n",
    "вернется 0 элемент, на 1 итерации вернется 1 элемент и тд)\n",
    "2. целочисленное значение, которое показывает, сколько секунд \n",
    "прошло с предыдущей итерации\n",
    "\n",
    "*Примечание:   \n",
    "секунды, которые возвращаются должны показывать время не \n",
    "с начала запуска генератора,   \n",
    "а именно то время, которое прошло с \n",
    "предыдущей итерации.  \n",
    "А значит время на первой итерации должно \n",
    "равняться 0.*\n",
    "\n",
    "* Используйте функцию time из модуля time для подсчета времени.\n",
    "* Чтобы проверить работу таймера, запустите проход по \n",
    "генератору в цикле с time.sleep(2)\n"
   ]
  },
  {
   "cell_type": "code",
   "execution_count": 5,
   "metadata": {},
   "outputs": [],
   "source": [
    "import time"
   ]
  },
  {
   "cell_type": "code",
   "execution_count": 6,
   "metadata": {},
   "outputs": [
    {
     "name": "stdout",
     "output_type": "stream",
     "text": [
      "(99, 0)\n",
      "(37, 2)\n",
      "(10, 2)\n",
      "(2, 2)\n",
      "(75, 2)\n"
     ]
    }
   ],
   "source": [
    "def gen(client: list) -> tuple:\n",
    "    last_time = time.time()\n",
    "    for num in client:\n",
    "        cur_time = time.time()\n",
    "        yield num, round(cur_time - last_time)\n",
    "        last_time = cur_time\n",
    "\n",
    "for time_iter in gen(data): \n",
    "    print(time_iter)\n",
    "    time.sleep(2)"
   ]
  },
  {
   "attachments": {},
   "cell_type": "markdown",
   "metadata": {},
   "source": [
    "## Задание 5.\n"
   ]
  },
  {
   "attachments": {},
   "cell_type": "markdown",
   "metadata": {},
   "source": [
    "### 5.1 Найдите картинку в интернете и прикрепите её в ячейку с текстом"
   ]
  },
  {
   "attachments": {},
   "cell_type": "markdown",
   "metadata": {},
   "source": [
    "<img src = https://chudo-prirody.com/uploads/posts/2021-08/1628706203_69-p-milie-koti-foto-74.jpg width=300>"
   ]
  },
  {
   "attachments": {},
   "cell_type": "markdown",
   "metadata": {},
   "source": [
    "### 5.2 Создайте следующую таблицу в ячейке с текстом"
   ]
  },
  {
   "attachments": {},
   "cell_type": "markdown",
   "metadata": {},
   "source": [
    "<table>\n",
    " <tr>\n",
    "  <td></td>\n",
    "  <td>До события</td>\n",
    "  <td>Во время</td>\n",
    " </tr>\n",
    "  <tr>\n",
    "  <td>1 точка</td>\n",
    "  <td>250</td>\n",
    "  <td>500</td>\n",
    " </tr>\n",
    "  <tr>\n",
    "  <td>2 точка</td>\n",
    "  <td>350</td>\n",
    "  <td>700</td>\n",
    " </tr>\n",
    "  <tr>\n",
    "  <td>3 точка</td>\n",
    "  <td>400</td>\n",
    "  <td>800</td>\n",
    " </tr>\n",
    "  <tr>\n",
    "  <td>Итого</td>\n",
    "  <td>1000</td>\n",
    "  <td>2000</td>\n",
    " </tr>\n",
    "</table>"
   ]
  },
  {
   "attachments": {},
   "cell_type": "markdown",
   "metadata": {},
   "source": [
    "## Задание 6.\n",
    "Напишите функцию, которая может принимать любое \n",
    "количество трат пользователя и считать сумму и среднее.\n",
    "\n",
    "* На вход поступают целочисленные значения в любом \n",
    "количестве\n",
    "* На выходе словарь с ключами суммы трат и средней \n",
    "траты"
   ]
  },
  {
   "cell_type": "code",
   "execution_count": 13,
   "metadata": {},
   "outputs": [
    {
     "name": "stdout",
     "output_type": "stream",
     "text": [
      "(22, 46, 39, 82, 45)\n"
     ]
    },
    {
     "data": {
      "text/plain": [
       "{'Сумма': 234, 'Среднее': 46.8}"
      ]
     },
     "execution_count": 13,
     "metadata": {},
     "output_type": "execute_result"
    }
   ],
   "source": [
    "def money(*args):\n",
    "    print(args)\n",
    "    summa = sum(args)\n",
    "    aver = summa / len(args)\n",
    "    return {\"Сумма\": summa, \"Среднее\": aver}\n",
    "\n",
    "money(22, 46, 39, 82, 45)"
   ]
  }
 ],
 "metadata": {
  "kernelspec": {
   "display_name": ".venv",
   "language": "python",
   "name": "python3"
  },
  "language_info": {
   "codemirror_mode": {
    "name": "ipython",
    "version": 3
   },
   "file_extension": ".py",
   "mimetype": "text/x-python",
   "name": "python",
   "nbconvert_exporter": "python",
   "pygments_lexer": "ipython3",
   "version": "3.10.10"
  },
  "orig_nbformat": 4
 },
 "nbformat": 4,
 "nbformat_minor": 2
}
